{
  "nbformat": 4,
  "nbformat_minor": 0,
  "metadata": {
    "colab": {
      "name": "DEAP.ipynb",
      "provenance": [],
      "toc_visible": true,
      "authorship_tag": "ABX9TyPyt6Neg7VtyO3/WjOV5f7g",
      "include_colab_link": true
    },
    "kernelspec": {
      "name": "python3",
      "display_name": "Python 3"
    }
  },
  "cells": [
    {
      "cell_type": "markdown",
      "metadata": {
        "id": "view-in-github",
        "colab_type": "text"
      },
      "source": [
        "<a href=\"https://colab.research.google.com/github/GMW99/GeneticAlgorithms/blob/master/DEAP.ipynb\" target=\"_parent\"><img src=\"https://colab.research.google.com/assets/colab-badge.svg\" alt=\"Open In Colab\"/></a>"
      ]
    },
    {
      "cell_type": "markdown",
      "metadata": {
        "id": "ByFBOoP5iH7s",
        "colab_type": "text"
      },
      "source": [
        "#What is DEAP\n",
        "\n",
        "DEAP is short for Distributed Evolutionary Algorithms in Python and is a framework developed in python that supports developement of genetic and evolutionary computation algorithms. It can be installed using pip install deap\n"
      ]
    },
    {
      "cell_type": "markdown",
      "metadata": {
        "id": "JgWcBUhiQCbo",
        "colab_type": "text"
      },
      "source": [
        "## Prerequisite Knowledge \n",
        "\n",
        "1.   Python\n",
        "2.   Understanding of how genetic algorithms work\n",
        "\n",
        "\n",
        "\n"
      ]
    },
    {
      "cell_type": "code",
      "metadata": {
        "id": "3hln6Ou8iGw4",
        "colab_type": "code",
        "outputId": "419d3eaf-bf0e-4579-a7f1-9fd4c3b00441",
        "colab": {
          "base_uri": "https://localhost:8080/",
          "height": 141
        }
      },
      "source": [
        "!pip install deap"
      ],
      "execution_count": 0,
      "outputs": [
        {
          "output_type": "stream",
          "text": [
            "Collecting deap\n",
            "\u001b[?25l  Downloading https://files.pythonhosted.org/packages/0a/eb/2bd0a32e3ce757fb26264765abbaedd6d4d3640d90219a513aeabd08ee2b/deap-1.3.1-cp36-cp36m-manylinux2010_x86_64.whl (157kB)\n",
            "\r\u001b[K     |██                              | 10kB 23.3MB/s eta 0:00:01\r\u001b[K     |████▏                           | 20kB 1.8MB/s eta 0:00:01\r\u001b[K     |██████▎                         | 30kB 2.6MB/s eta 0:00:01\r\u001b[K     |████████▍                       | 40kB 1.7MB/s eta 0:00:01\r\u001b[K     |██████████▍                     | 51kB 2.2MB/s eta 0:00:01\r\u001b[K     |████████████▌                   | 61kB 2.6MB/s eta 0:00:01\r\u001b[K     |██████████████▋                 | 71kB 3.0MB/s eta 0:00:01\r\u001b[K     |████████████████▊               | 81kB 3.4MB/s eta 0:00:01\r\u001b[K     |██████████████████▊             | 92kB 3.8MB/s eta 0:00:01\r\u001b[K     |████████████████████▉           | 102kB 2.8MB/s eta 0:00:01\r\u001b[K     |███████████████████████         | 112kB 2.8MB/s eta 0:00:01\r\u001b[K     |█████████████████████████       | 122kB 2.8MB/s eta 0:00:01\r\u001b[K     |███████████████████████████▏    | 133kB 2.8MB/s eta 0:00:01\r\u001b[K     |█████████████████████████████▏  | 143kB 2.8MB/s eta 0:00:01\r\u001b[K     |███████████████████████████████▎| 153kB 2.8MB/s eta 0:00:01\r\u001b[K     |████████████████████████████████| 163kB 2.8MB/s \n",
            "\u001b[?25hRequirement already satisfied: numpy in /usr/local/lib/python3.6/dist-packages (from deap) (1.17.5)\n",
            "Installing collected packages: deap\n",
            "Successfully installed deap-1.3.1\n"
          ],
          "name": "stdout"
        }
      ]
    },
    {
      "cell_type": "markdown",
      "metadata": {
        "id": "ARLL82X_jDDn",
        "colab_type": "text"
      },
      "source": [
        "# Creator class\n",
        "\n",
        "The creator class is used a meta-factory and it enables exisiting classes to be extened by adding new attributes. The creator class usually serves to create the Fitness class as well as the Individual class to be used by a genetic algorithm."
      ]
    },
    {
      "cell_type": "markdown",
      "metadata": {
        "id": "5EJSgsRajzQ1",
        "colab_type": "text"
      },
      "source": [
        "## Creating the Fitness class\n",
        "\n",
        "Fitness values are expressed within the Fitness class. DEAP allows for the fitness to be combinded into many components, objectives, each having there own weight. The way these weights are combined together will define the strategy of the fitness."
      ]
    },
    {
      "cell_type": "markdown",
      "metadata": {
        "id": "kuSXwnAbG7gx",
        "colab_type": "text"
      },
      "source": [
        "## Defining a fitness strategy \n",
        "\n",
        "There is a class base template class called  base.Fitness, this class contains the weights tuple. The weights tuple will need to be assinged with values in the order of importance. "
      ]
    },
    {
      "cell_type": "code",
      "metadata": {
        "id": "t3s5aFsNnIdY",
        "colab_type": "code",
        "colab": {}
      },
      "source": [
        "from deap import creator\n",
        "from deap import base\n",
        "\n",
        "creator.create(\"FitnessMax\", base.Fitness, weights=(1.0,))"
      ],
      "execution_count": 0,
      "outputs": []
    },
    {
      "cell_type": "markdown",
      "metadata": {
        "id": "xEDNl4XWntxn",
        "colab_type": "text"
      },
      "source": [
        "This will create a creator.FitnessMax class that extends base.Fitness with the weights initially instantiated with the value of (1.0,) the trailing comma is because weights as required as a tuple data structure. The FitnessMax class is used to maximize the fitness values of the single-objective solutions during the running of the algorithm. If needing to minimize, then you change the weight to negative and change the class name appropriately. \n"
      ]
    },
    {
      "cell_type": "markdown",
      "metadata": {
        "id": "NLx7vAR4GpY7",
        "colab_type": "text"
      },
      "source": [
        "## Creating an Individual class \n",
        "\n",
        "In DEAP you can  define the individuals that form the population that will be used in the genetitc algorithm. This is done by extending a base class that will represent the it such as a list, as well an individual instance needs to contain the fitness function attribute. "
      ]
    },
    {
      "cell_type": "code",
      "metadata": {
        "id": "zy6X6ZpXPaRS",
        "colab_type": "code",
        "colab": {}
      },
      "source": [
        "from deap import creator\n",
        "\n",
        "creator.create(\"Individual\", list, fitness=creator.FitnessMax)"
      ],
      "execution_count": 0,
      "outputs": []
    },
    {
      "cell_type": "markdown",
      "metadata": {
        "id": "PfW3tr3QQenn",
        "colab_type": "text"
      },
      "source": [
        "# Toolbox class\n",
        "\n",
        "This class is used to host functions and allows for the creation of new functions by customizing exisitng functions. The documentation can be found https://deap.readthedocs.io/en/1.0.x/api/tools.html#operators"
      ]
    },
    {
      "cell_type": "markdown",
      "metadata": {
        "id": "TM1ueYqURRs0",
        "colab_type": "text"
      },
      "source": [
        "## An example of its use\n",
        "\n",
        "If you have a function that is the product of two digits as below"
      ]
    },
    {
      "cell_type": "code",
      "metadata": {
        "id": "WFW_JQ6gReho",
        "colab_type": "code",
        "colab": {}
      },
      "source": [
        "def productOfTwo(a,b):\n",
        "  return a*b"
      ],
      "execution_count": 0,
      "outputs": []
    },
    {
      "cell_type": "markdown",
      "metadata": {
        "id": "T1InP_NgRkpw",
        "colab_type": "text"
      },
      "source": [
        "If we use the toolbox we now and add a new function, multiplyByTwo(), which customizes the productOfTwo() function."
      ]
    },
    {
      "cell_type": "code",
      "metadata": {
        "id": "u-HkF_mfR-mj",
        "colab_type": "code",
        "colab": {}
      },
      "source": [
        "from deap import base\n",
        "\n",
        "toolbox = base.Toolbox()\n",
        "toolbox.register(\"multiplyByTwo\",productOfTwo, b=2)"
      ],
      "execution_count": 0,
      "outputs": []
    },
    {
      "cell_type": "markdown",
      "metadata": {
        "id": "5DGDIGCDSUoQ",
        "colab_type": "text"
      },
      "source": [
        "The first argument passed to the register is the new name of the function, the second being the function we are customizing with the 3rd being the parametes we are passing so running"
      ]
    },
    {
      "cell_type": "code",
      "metadata": {
        "id": "pTUPPDReStiJ",
        "colab_type": "code",
        "outputId": "6bb4e8ef-1a4f-4f98-ce1f-87fb4205402b",
        "colab": {
          "base_uri": "https://localhost:8080/",
          "height": 34
        }
      },
      "source": [
        "toolbox.multiplyByTwo(4)"
      ],
      "execution_count": 0,
      "outputs": [
        {
          "output_type": "execute_result",
          "data": {
            "text/plain": [
              "8"
            ]
          },
          "metadata": {
            "tags": []
          },
          "execution_count": 7
        }
      ]
    },
    {
      "cell_type": "markdown",
      "metadata": {
        "id": "shHQiiiYa-4i",
        "colab_type": "text"
      },
      "source": [
        "This is the equivalent to:"
      ]
    },
    {
      "cell_type": "code",
      "metadata": {
        "id": "9MA-J0NgbHP_",
        "colab_type": "code",
        "outputId": "43143215-264c-45ab-fd79-1ccacdfb35ec",
        "colab": {
          "base_uri": "https://localhost:8080/",
          "height": 34
        }
      },
      "source": [
        "productOfTwo(4,2)"
      ],
      "execution_count": 0,
      "outputs": [
        {
          "output_type": "execute_result",
          "data": {
            "text/plain": [
              "8"
            ]
          },
          "metadata": {
            "tags": []
          },
          "execution_count": 8
        }
      ]
    },
    {
      "cell_type": "markdown",
      "metadata": {
        "id": "jXcszZo_dVIu",
        "colab_type": "text"
      },
      "source": [
        "## Creating genetic operators\n",
        "\n",
        "The main use of the toolbox is to customize the exisitng functions in tools class. This class contains many useful functions related to genetic operations such as mutation, selection, crossover and initialization utilities.\n",
        "\n",
        "This is an example of three aliases that can later be used as the genetic operators for a GA later."
      ]
    },
    {
      "cell_type": "code",
      "metadata": {
        "id": "pEU-1NRjefmb",
        "colab_type": "code",
        "colab": {}
      },
      "source": [
        "from deap import tools\n",
        "\n",
        "toolbox.register(\"select\", tools.selTournament, tournsize=3)\n",
        "toolbox.register(\"mate\", tools.cxTwoPoint)\n",
        "toolbox.register(\"mutate\", tools.mutFlipBit, indpb=0.02)"
      ],
      "execution_count": 0,
      "outputs": []
    },
    {
      "cell_type": "markdown",
      "metadata": {
        "id": "acdmJNQnetL2",
        "colab_type": "text"
      },
      "source": [
        "The aliases used here are defined below\n",
        "\n",
        "\n",
        "*   select, is an alias to the tools function selTournament with the parameter of 3. This performans tournament selection with a tournament size of 3\n",
        "*   mate, is an alias of the cxTwoPoint function. This performs a two-point crossover\n",
        "*   mutate, is an alias of the mutFlipBit function with indpb parameter set to 0.02, indpb meaning inderpendent probablity. This function performs a flib bit mutation with a 0.02 probability of each attribute being flipped.\n",
        "\n",
        "\n"
      ]
    },
    {
      "cell_type": "markdown",
      "metadata": {
        "id": "lqmufkAyjDml",
        "colab_type": "text"
      },
      "source": [
        "# Creating the population\n",
        "\n"
      ]
    }
  ]
}