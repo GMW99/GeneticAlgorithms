{
 "cells": [
  {
   "cell_type": "markdown",
   "metadata": {},
   "source": [
    "# Continuous functions Optimization\n",
    "The deap framework can also work with Continuous functions, these use similar functions to the same ones used in the previous chapters. \n",
    "\n",
    "\n",
    "## What is a continuous function\n",
    "A continuous function is a function that does not have any discontinuites, this means that it does not abruptly change in values, such that when small change input ocour there are adiquality small change in output. If this is not the case then a function is described as discontinous. \n",
    "\n",
    "A formal way of defining a continuous function is as follows\n",
    "$$\n",
    "let\n",
    "$$\n",
    "$$\n",
    "f:D\\rightarrow R\\,\\, \\text{be a function defined on a subset}\\, D\\, \\text{of the set}\\, R\\, \\text{of real numbers}\n",
    "$$\n",
    "$$\n",
    "\\text{This subset}\\, D\\, \\text{is the domain of}\\, f\\,\\, \\text{where possible choices included}\n",
    "$$\n",
    "$$\n",
    "D\\,=\\,R \\,\\,\\, \\text{(}D\\,\\, \\text{is the whole set of real numbers),}\n",
    "$$\n",
    "$$\n",
    "D = [a,\\,b] = \\{x\\,\\in\\,R\\,|\\,a\\leq\\,x\\leq\\,b\\}\\,,\\,\\ \\text{(}D\\,\\, \\text{is a closed interval),}\n",
    "$$\n"
   ]
  },
  {
   "cell_type": "markdown",
   "metadata": {},
   "source": [
    "## Genetic operator for real numbers\n",
    "\n",
    "In the last chapters we have only dealt with problems that can be represented as binary or integer chromosomes. In this section we look at how to deal with problmes that have a solution within the reals. We could if we really wanted to simply change the representation of the real numbers to binary however, this a less than ideal way.\n",
    "\n",
    "If we have a problem using a three reals parameters, the chromosome will look like:\n",
    "$$\n",
    "[x_1,\\,x_2,\\,x_3]\n",
    "$$\n",
    "$$\n",
    "\\text{Where}\\, x_1,\\,x_2,\\,x_3\\,\\,\\text{represent real numbers, for example:}\n",
    "$$\n",
    "$$\n",
    "[3.2312,\\,1.2314,\\,-232.232]\\,\\, or \\,\\, [-25.343,\\,44.3424,\\,234.434]\n",
    "$$\n",
    "\n",
    "The selection methods stay the same when using real numbers. However, specalised mutation and crossover methods are needed for real encoded chromosomes. These operators are generally applied on matching elemenmts as shown below:\n",
    "\n",
    "let Indivual 1 and 2 be represented as such $I_1 = [x_1,\\,x_2,\\,x_3],\\,\\, I_2 = [y_1,\\,y_2,\\,y_3]$ where an crossover operation is applied sepretly on each element to create a offsping $O_1 = [o_1,\\,o_2,\\,o_3]$. This would have been done as follows:\n",
    "\n",
    "* $o_1$ is the result of the crossover between $x_1$ and $y_1$\n",
    "* $o_2$ is the result of the crossover between $x_2$ and $y_2$\n",
    "* $o_3$ is the result of the crossover between $x_3$ and $y_3$\n",
    "\n",
    "Mutation operators are also applied to each elemement in the chromosome indivually so $o_1,\\,o_2$ and $o_3$ are subject to mutation.\n"
   ]
  },
  {
   "cell_type": "markdown",
   "metadata": {},
   "source": [
    "### Blend Crossover (BLX)\n",
    "\n",
    "This is an operation where each offspring is randomly selected from a interval created by it parents\n",
    "\n",
    "$$\n",
    "[parent_1 - \\alpha(parent_2 -parent_1),\\, parent_2 + \\alpha(parent_2 -parent_1)]\n",
    "$$\n",
    "\n",
    "Where $\\alpha$ is user defined parameter where increasing and decreasing increases the range of the interval."
   ]
  },
  {
   "cell_type": "markdown",
   "metadata": {},
   "source": [
    "### Simulated Binary Crossover (SBX)\n",
    "\n",
    "What this crossover does is make two offspring from two parents where it makes sure that the average of the offspring values are equal to the parents.\n",
    "\n",
    "$$\n",
    "offspring_1 = -\\frac{1}{2}\\Big((1+\\beta \\cdot parent_1)+(1-\\beta \\cdot parent_2)\\Big)\n",
    "$$\n",
    "$$\n",
    "offspring_2 = -\\frac{1}{2}\\Big((1-\\beta \\cdot parent_1)+(1+\\beta \\cdot parent_2)\\Big)\n",
    "$$\n",
    "The value of $\\beta$ is known as the spread factor, this is calculated using a randomly chosen value and a selected value nown at $\\eta$, distrubition factor or crowding factor. With larger values of $\\eta$, offspring will be more similar to their parents the value is generally between 10 and 20. "
   ]
  },
  {
   "cell_type": "markdown",
   "metadata": {},
   "source": [
    "### Normally Distribution Mutation\n",
    "\n",
    "The original value is replaced with a random number that is generated using a normal distrubtion."
   ]
  },
  {
   "cell_type": "markdown",
   "metadata": {},
   "source": [
    "## Operations in DEAP\n",
    "\n",
    "For chromosome encoding we can use a list or array of floating-point numbers, we can also use a numpy.ndarry however this adds complications, which are covered in the documentation: https://deap.readthedocs.io/en/master/tutorials/advanced/numpy.html.\n",
    "\n",
    "The reals genetic operators, the framework offers many different implementations of crossover and mutation operations.\n",
    "\n",
    "* cxBlend(), implementation of Blend Crossover, it takes alpha as the argument\n",
    "* cxSimulatedBinary(), implementation of Simulated Binary Crossover, taking the arguments eta as the $\\eta$ \n",
    "* mutGaussian(), implementation of the normal distribution, takes the arguments mu and sigma for mean and standard deviation respectively.\n",
    "\n",
    "Since the opertimisation of these problems are generally bounded there are also bounded functions included.\n",
    "\n",
    "* cxSimulatedBinary(), this similar to the cxSimulatedBinary however it also takes the paramenters, low and up to set the boundarys.\n",
    "* mutPolynomialBounded(), this is a bounded mutation operator that uses a polynomial function for the probabliity distribution. This takes the arguments of low and high aswell, it also takes the eta paramenter as the crowding factor. With the same expected results of a high value lending itself to mutate close to its orginal value with the vice versa being true for small values."
   ]
  },
  {
   "cell_type": "markdown",
   "metadata": {},
   "source": [
    "## The Eggholder Function\n",
    "\n",
    "This is a function that can be expressed as:\n",
    "\n",
    "$$\n",
    "f(x,y)=-(y+47)\\cdot\\sin\\sqrt{\\Bigg|{\\frac{x}{2}+(y+47)}\\Bigg|}-x\\cdot\\sin\\sqrt{\\big|x-(y+47)\\big|}\n",
    "$$\n",
    "$$\n",
    "where\n",
    "$$\n",
    "$$\n",
    "-512\\leq x \\leq 512\\,\\,\\,and\\, -512\\leq y \\leq 512\n",
    "$$\n",
    "The global minimum of the function is know to be at:\n",
    "$$\n",
    "x=512,\\,y=404.2319,\\, f(x,y)=-959.6407\n",
    "$$\n"
   ]
  },
  {
   "cell_type": "code",
   "execution_count": null,
   "metadata": {},
   "outputs": [],
   "source": [
    "from mpl_toolkits.mplot3d import Axes3D\n",
    "import matplotlib.pyplot as plt\n",
    "from matplotlib import cm\n",
    "from matplotlib.ticker import LinearLocator\n",
    "import numpy as np\n",
    "\n",
    "\n",
    "fig = plt.figure()\n",
    "ax = fig.gca(projection='3d')\n",
    "\n",
    "# Make data.\n",
    "X = np.arange(-512, 512,1)\n",
    "xlen = len(X)\n",
    "Y = np.arange(-512, 512,1)\n",
    "ylen = len(Y)\n",
    "X, Y = np.meshgrid(X, Y)\n",
    "R = np.sqrt((X-2)**2 + Y**2)\n",
    "Z = -(Y+47)*np.sin(np.sqrt(np.abs(X/2+(Y+47))))-X*np.sin(np.sqrt(np.abs(X-(Y+47))))\n",
    "\n",
    "\n",
    "# Plot the surface with face colors taken from the array we made.\n",
    "surf = ax.plot_surface(X, Y, Z, rstride=1, cstride=1, cmap=cm.plasma,\n",
    "                       linewidth=0, antialiased=False)\n",
    "\n",
    "# Customize the z axis.\n",
    "ax.set_zlim(-1000, 1000)\n",
    "\n",
    "plt.show()"
   ]
  },
  {
   "cell_type": "markdown",
   "metadata": {},
   "source": [
    "### How displayed in DEAP\n",
    "\n",
    "So as this is mathematical function this is quite simple to implement in DEAP:"
   ]
  },
  {
   "cell_type": "code",
   "execution_count": null,
   "metadata": {},
   "outputs": [],
   "source": [
    "def eggholder(individual):\n",
    "    x = individual[0]\n",
    "    y = individual[1]\n",
    "    f = -(y+47)*np.sin(np.sqrt(np.abs(x/2+(y+47))))-x*np.sin(np.sqrt(np.abs(x-(y+47))))\n",
    "    return f,"
   ]
  }
 ],
 "metadata": {
  "kernelspec": {
   "display_name": "ga",
   "language": "python",
   "name": "ga"
  },
  "language_info": {
   "codemirror_mode": {
    "name": "ipython",
    "version": 3
   },
   "file_extension": ".py",
   "mimetype": "text/x-python",
   "name": "python",
   "nbconvert_exporter": "python",
   "pygments_lexer": "ipython3",
   "version": "3.7.3"
  }
 },
 "nbformat": 4,
 "nbformat_minor": 2
}