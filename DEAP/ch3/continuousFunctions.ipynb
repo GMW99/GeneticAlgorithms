{
 "cells": [
  {
   "cell_type": "markdown",
   "metadata": {},
   "source": [
    "# Continuous functions Optimization\n",
    "The deap framework can also work with Continuous functions, these use similar functions to the same ones used in the previous chapters. \n",
    "\n",
    "\n",
    "## What is a continuous function\n",
    "A continuous function is a function that does not have any discontinuites, this means that it does not abruptly change in values, such that when small change input ocour there are adiquality small change in output. If this is not the case then a function is described as discontinous. \n",
    "\n",
    "A formal way of defining a continuous function is as follows\n",
    "$$\n",
    "let\n",
    "$$\n",
    "$$\n",
    "f:D\\rightarrow R\\,\\, \\text{be a function defined on a subset}\\, D\\, \\text{of the set}\\, R\\, \\text{of real numbers}\n",
    "$$\n",
    "$$\n",
    "\\text{This subset}\\, D\\, \\text{is the domain of}\\, f\\,\\, \\text{where possible choices included}\n",
    "$$\n",
    "$$\n",
    "D\\,=\\,R \\,\\,\\, \\text{(}D\\,\\, \\text{is the whole set of real numbers),}\n",
    "$$\n",
    "$$\n",
    "D = [a,\\,b] = \\{x\\,\\in\\,R\\,|\\,a\\leq\\,x\\leq\\,b\\}\\,,\\,\\ \\text{(}D\\,\\, \\text{is a closed interval),}\n",
    "$$\n"
   ]
  },
  {
   "cell_type": "markdown",
   "metadata": {},
   "source": [
    "## Genetic operator for real numbers\n",
    "\n",
    "In the last chapters we have only dealt with problems that can be represented as binary or integer chromosomes. In this section we look at how to deal with problmes that have a solution within the reals. We could if we really wanted to simply change the representation of the real numbers to binary however, this a less than ideal way.\n",
    "\n",
    "If we have a problem using a three reals parameters, the chromosome will look like:\n",
    "$$\n",
    "[x_1,\\,x_2,\\,x_3]\n",
    "$$\n",
    "$$\n",
    "\\text{Where}\\, x_1,\\,x_2,\\,x_3\\,\\,\\text{represent real numbers, for example:}\n",
    "$$\n",
    "$$\n",
    "[3.2312,\\,1.2314,\\,-232.232]\\,\\, or \\,\\, [-25.343,\\,44.3424,\\,234.434]\n",
    "$$\n",
    "\n",
    "The selection methods stay the same when using real numbers. However, specalised mutation and crossover methods are needed for real encoded chromosomes. These operators are generally applied on matching elemenmts as shown below:\n",
    "\n",
    "let Indivual 1 and 2 be represented as such $I_1 = [x_1,\\,x_2,\\,x_3],\\,\\, I_2 = [y_1,\\,y_2,\\,y_3]$ where an crossover operation is applied sepretly on each element to create a offsping $O_1 = [o_1,\\,o_2,\\,o_3]$. This would have been done as follows:\n",
    "\n",
    "* $o_1$ is the result of the crossover between $x_1$ and $y_1$\n",
    "* $o_2$ is the result of the crossover between $x_2$ and $y_2$\n",
    "* $o_3$ is the result of the crossover between $x_3$ and $y_3$\n",
    "\n",
    "Mutation operators are also applied to each elemement in the chromosome indivually so $o_1,\\,o_2$ and $o_3$ are subject to mutation.\n"
   ]
  },
  {
   "cell_type": "markdown",
   "metadata": {},
   "source": [
    "### Blend Crossover (BLX)\n",
    "\n",
    "This is an operation where each offspring is randomly selected from a interval created by it parents\n",
    "\n",
    "$$\n",
    "[parent_1 - \\alpha(parent_2 -parent_1),\\, parent_2 + \\alpha(parent_2 -parent_1)]\n",
    "$$\n",
    "\n",
    "Where $\\alpha$ is user defined parameter where increasing and decreasing increases the range of the interval."
   ]
  },
  {
   "cell_type": "markdown",
   "metadata": {},
   "source": [
    "### Simulated Binary Crossover (SBX)\n",
    "\n",
    "What this crossover does is make two offspring from two parents where it makes sure that the average of the offspring values are equal to the parents.\n",
    "\n",
    "$$\n",
    "offspring_1 = -\\frac{1}{2}\\Big((1+\\beta \\cdot parent_1)+(1-\\beta \\cdot parent_2)\\Big)\n",
    "$$\n",
    "$$\n",
    "offspring_2 = -\\frac{1}{2}\\Big((1-\\beta \\cdot parent_1)+(1+\\beta \\cdot parent_2)\\Big)\n",
    "$$\n",
    "The value of $\\beta$ is known as the spread factor, this is calculated using a randomly chosen value and a selected value nown at $\\eta$, distrubition factor or crowding factor. With larger values of $\\eta$, offspring will be more similar to their parents the value is generally between 10 and 20. "
   ]
  },
  {
   "cell_type": "markdown",
   "metadata": {},
   "source": [
    "### Normally Distribution Mutation\n",
    "\n",
    "The original value is replaced with a random number that is generated using a normal distrubtion."
   ]
  },
  {
   "cell_type": "markdown",
   "metadata": {},
   "source": [
    "## Operations in DEAP\n",
    "\n",
    "For chromosome encoding we can use a list or array of floating-point numbers, we can also use a numpy.ndarry however this adds complications, which are covered in the documentation: https://deap.readthedocs.io/en/master/tutorials/advanced/numpy.html.\n",
    "\n",
    "The reals genetic operators, the framework offers many different implementations of crossover and mutation operations.\n",
    "\n",
    "* cxBlend(), implementation of Blend Crossover, it takes alpha as the argument\n",
    "* cxSimulatedBinary(), implementation of Simulated Binary Crossover, taking the arguments eta as the $\\eta$ \n",
    "* mutGaussian(), implementation of the normal distribution, takes the arguments mu and sigma for mean and standard deviation respectively.\n",
    "\n",
    "Since the opertimisation of these problems are generally bounded there are also bounded functions included.\n",
    "\n",
    "* cxSimulatedBinary(), this similar to the cxSimulatedBinary however it also takes the paramenters, low and up to set the boundarys.\n",
    "* mutPolynomialBounded(), this is a bounded mutation operator that uses a polynomial function for the probabliity distribution. This takes the arguments of low and high aswell, it also takes the eta paramenter as the crowding factor. With the same expected results of a high value lending itself to mutate close to its orginal value with the vice versa being true for small values."
   ]
  },
  {
   "cell_type": "markdown",
   "metadata": {},
   "source": [
    "## The Eggholder Function\n",
    "\n",
    "This is a function that can be expressed as:\n",
    "\n",
    "$$\n",
    "f(x,y)=-(y+47)\\cdot\\sin\\sqrt{\\Bigg|{\\frac{x}{2}+(y+47)}\\Bigg|}-x\\cdot\\sin\\sqrt{\\big|x-(y+47)\\big|}\n",
    "$$\n",
    "$$\n",
    "where\n",
    "$$\n",
    "$$\n",
    "-512\\leq x \\leq 512\\,\\,\\,and\\, -512\\leq y \\leq 512\n",
    "$$\n",
    "The global minimum of the function is know to be at:\n",
    "$$\n",
    "x=512,\\,y=404.2319,\\, f(x,y)=-959.6407\n",
    "$$\n"
   ]
  },
  {
   "cell_type": "code",
   "execution_count": null,
   "metadata": {},
   "outputs": [],
   "source": [
    "from mpl_toolkits.mplot3d import Axes3D\n",
    "import matplotlib.pyplot as plt\n",
    "from matplotlib import cm\n",
    "from matplotlib.ticker import LinearLocator\n",
    "import numpy as np\n",
    "\n",
    "\n",
    "fig = plt.figure()\n",
    "ax = fig.gca(projection='3d')\n",
    "\n",
    "# Make data.\n",
    "X = np.arange(-512, 512,1)\n",
    "xlen = len(X)\n",
    "Y = np.arange(-512, 512,1)\n",
    "ylen = len(Y)\n",
    "X, Y = np.meshgrid(X, Y)\n",
    "R = np.sqrt((X-2)**2 + Y**2)\n",
    "Z = -(Y+47)*np.sin(np.sqrt(np.abs(X/2+(Y+47))))-X*np.sin(np.sqrt(np.abs(X-(Y+47))))\n",
    "\n",
    "\n",
    "# Plot the surface with face colors taken from the array we made.\n",
    "surf = ax.plot_surface(X, Y, Z, rstride=1, cstride=1, cmap=cm.plasma,\n",
    "                       linewidth=0, antialiased=False)\n",
    "\n",
    "# Customize the z axis.\n",
    "ax.set_zlim(-1000, 1000)\n",
    "\n",
    "plt.show()"
   ]
  },
  {
   "cell_type": "markdown",
   "metadata": {},
   "source": [
    "### How displayed in DEAP\n",
    "\n",
    "So as this is mathematical function this is quite simple to implement in DEAP:"
   ]
  },
  {
   "cell_type": "code",
   "execution_count": null,
   "metadata": {},
   "outputs": [],
   "source": [
    "def eggholder(individual):\n",
    "    x = individual[0]\n",
    "    y = individual[1]\n",
    "    f = -(y+47)*np.sin(np.sqrt(np.abs(x/2+(y+47))))-x*np.sin(np.sqrt(np.abs(x-(y+47))))\n",
    "    return f,"
   ]
  },
  {
   "cell_type": "markdown",
   "metadata": {},
   "source": [
    "## The Himmelblau Function\n",
    "\n",
    "This is a function that can be expressed as:\n",
    "\n",
    "$$f(x,y)=(x^2+y-11)^2+(x+y^2-7)^2$$\n",
    "$$where$$\n",
    "$$-5\\leq x \\leq 5\\,\\,\\,and\\, -5\\leq y \\leq 5$$\n",
    "The global minimum of the function at $f(x,y)=0$ where $x$ and $y$ are:\n",
    "$$\n",
    "x=3.0,\\,y=2.0,\n",
    "\\\\\n",
    "x=-2.805118,\\, y=3.131312\n",
    "\\\\\n",
    "x=-3.779310,\\,y=-3.283186\n",
    "\\\\\n",
    "x=3.584458,\\,y=-1.848126\n",
    "$$\n",
    "Mathematacily this can be seen as a simpler function however as you can see by running the script below, this more interesting as it has 4 global minimums making it a multi-model function. "
   ]
  },
  {
   "cell_type": "code",
   "execution_count": null,
   "metadata": {},
   "outputs": [],
   "source": [
    "from mpl_toolkits.mplot3d import Axes3D\n",
    "import matplotlib.pyplot as plt\n",
    "from matplotlib import cm\n",
    "from matplotlib.ticker import LinearLocator\n",
    "import numpy as np\n",
    "\n",
    "\n",
    "fig = plt.figure()\n",
    "ax = fig.gca(projection='3d')\n",
    "\n",
    "# Make data.\n",
    "X = np.arange(-5, 5,0.1)\n",
    "xlen = len(X)\n",
    "Y = np.arange(-5, 5,0.1)\n",
    "ylen = len(Y)\n",
    "X, Y = np.meshgrid(X, Y)\n",
    "Z = (X**2+Y-11)**2 + (X+Y**2-7)**2\n",
    "\n",
    "\n",
    "# Plot the surface with face colors taken from the array we made.\n",
    "surf = ax.plot_surface(X, Y, Z, rstride=1, cstride=1, cmap=cm.gist_rainbow,\n",
    "                       linewidth=0, antialiased=False)\n",
    "\n",
    "plt.show()"
   ]
  },
  {
   "cell_type": "markdown",
   "metadata": {},
   "source": [
    "## How to find all solutions\n",
    "\n",
    "To find all of the solutions we will need to use a techique called niching, this is a method in essenese splits the populations into disjoint sets, in the hope that there will be an indivual in each set that will have an good fitness function. Using this means that we can increase the overal search space meaning that we should be abke to find the other global miniums. \n",
    "\n",
    "### Implementations of Niching\n",
    "\n",
    "We are going to use a very simple but effective techique, where we divide the raw fitness vlaue of each individual with the combined distances from all the other individuals, this in effect penalizes a crowded population by sharing the local score between its individuals."
   ]
  },
  {
   "cell_type": "markdown",
   "metadata": {},
   "source": [
    "The sharing mechanism, would make sense to be placed within the selection operator as this is where the fitness values are examined and used to create the next generation. If we modify the selection operator to modify the fitness value to represent the fact we want to use niching. To do this we are going to have to calcualte a sharing value that the fitness will be divided, this will be the distance between the location of the current indivual and the location of the other indivuals in the population. \n",
    "\n",
    "$$\n",
    "1+\\frac{distance}{distanceThreshold\\cdot sharingExtent}\n",
    "$$\n",
    "\n",
    "This means the increase in fitness value will be when the:\n",
    "* The distance between individuals is smaller\n",
    "* The sharing exent constant is larger\n",
    "\n",
    "The problem with niching is that is introduces another hyperparmeter that needs to modfied to get the results wanted."
   ]
  }
 ],
 "metadata": {
  "kernelspec": {
   "display_name": "ga",
   "language": "python",
   "name": "ga"
  },
  "language_info": {
   "codemirror_mode": {
    "name": "ipython",
    "version": 3
   },
   "file_extension": ".py",
   "mimetype": "text/x-python",
   "name": "python",
   "nbconvert_exporter": "python",
   "pygments_lexer": "ipython3",
   "version": "3.7.3"
  }
 },
 "nbformat": 4,
 "nbformat_minor": 2
}