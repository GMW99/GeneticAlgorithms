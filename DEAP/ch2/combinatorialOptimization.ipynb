{
 "cells": [
  {
   "cell_type": "markdown",
   "metadata": {},
   "source": [
    "# Combinatorial Optimization\n",
    "These are problems that where you have to find the maxima or minima of an objective function where the domain is discrete but within a large configurational space. Examples include:\n",
    "* Graph Coloring\n",
    "* Knapsack\n",
    "* Traveling Salemans\n",
    "\n",
    "The formal defintaion is defined as follows\n",
    "$$\n",
    "\\text{If we let a combinatorial optimization problem, A be a quadruple} (I,\\,f,\\,m,\\,g)\\, \\text{where} \n",
    "$$\n",
    "$$\n",
    "I\\, \\text{is a set of instances;}\n",
    "$$\n",
    "$$\n",
    "\\text{then given an instance}\\, x\\, \\in I,\\,f(x)\\, \\text{is the set of feasible solutions;}\n",
    "$$\n",
    "$$\n",
    "\\text{given an instance}\\, x\\, \\text{and a feasible solution}\\, y\\, \\text{of}\\, x,\\,m(x,\\,y) \\text{denotes the measure of}\\, y,\\,\\text{which is usally a positive real.}\n",
    "$$\n",
    "$$\n",
    "g\\,\\text{is the goal function, and is either}\\,min\\,\\text{or}\\, max.\n",
    "$$\n",
    "$$\n",
    "\\text{The goal is then to find for some instance}\\,x\\,\\text{an}\\,optimal\\,solution\\text{, that is, a feasible solution}\\, y\\,\\text{with}\n",
    "$$\n",
    "$$\n",
    "m(x,\\,y)\\,=\\,g\\{m(x,\\,y')\\,|\\,y'\\,\\in\\,f(x)\\}.\n",
    "$$"
   ]
  },
  {
   "cell_type": "markdown",
   "metadata": {},
   "source": [
    "## Knapsack Problem\n",
    "\n",
    "This is a very common type of Combinatorial Optimization problem, where given a set of objects all with a value and weight and bag that has a maxiamin weight capacity and you need to fit maxiamal value of items within the bag while staying under the weight capacity. This is type of problem often araises in a resource allocation problems. \n",
    "\n",
    "The formal defienation of a 0-1 Knapsack problem, where you restrict the number $x_i$ of copies of an item to zero or one. Given a set of $n$ of items numbered from 1 to $n$, each with a weight $w_i$, and a value $v_i$ and where $W$ represents weight capacity:\n",
    "$$\n",
    "maximize\\,\\, \\sum^{n}_{i=1}v_ix_i\n",
    "$$\n",
    "$$\n",
    "\\text{subject to}\\, \\sum^{n}_{i=1}w_ix_i\\,\\leq\\,W\\,and\\,\\,x_i\\,\\in\\,{0,\\,1}.\n",
    "$$"
   ]
  },
  {
   "cell_type": "markdown",
   "metadata": {},
   "source": [
    "## Defining our problem\n",
    "\n",
    "For this example we are going to use the Rosetta Code websites definition http://rosettacode.org/wiki/Knapsack_problem/0-1\n",
    "\n",
    "| item                    | weight (dag)  | value  |\n",
    "|-------------------------|---------------|--------|\n",
    "| map                     | 9             | 150    |\n",
    "| compass                 | 13            | 35     |\n",
    "| water                   | 153           | 200    |\n",
    "| sandwich                | 50            | 160    |\n",
    "| glucose                 | 15            | 60     |\n",
    "| tin                     | 68            | 45     |\n",
    "| banana                  | 27            | 60     |\n",
    "| apple                   | 39            | 40     |\n",
    "| cheese                  | 23            | 30     |\n",
    "| beer                    | 52            | 10     |\n",
    "| suntan cream            | 11            | 70     |\n",
    "| camera                  | 32            | 30     |\n",
    "| T-shirt                 | 24            | 15     |\n",
    "| trousers                | 48            | 10     |\n",
    "| umbrella                | 73            | 40     |\n",
    "| waterproof trousers     | 42            | 70     |\n",
    "| waterproof overclothes  | 43            | 75     |\n",
    "| note-case               | 22            | 80     |\n",
    "| sunglasses              | 7             | 20     |\n",
    "| towel                   | 18            | 12     |\n",
    "| socks                   | 4             | 50     |\n",
    "| book                    | 30            | 10     |\n",
    "| knapsack                | ≤400 dag      |  ?     |\n",
    "----------------------------------------------------\n",
    "\n",
    "Now we need to find the bag that gains the highest value, only using 1 or zero of each item.\n"
   ]
  }
 ],
 "metadata": {
  "kernelspec": {
   "display_name": "ga",
   "language": "python",
   "name": "ga"
  },
  "language_info": {
   "codemirror_mode": {
    "name": "ipython",
    "version": 3
   },
   "file_extension": ".py",
   "mimetype": "text/x-python",
   "name": "python",
   "nbconvert_exporter": "python",
   "pygments_lexer": "ipython3",
   "version": "3.7.3"
  }
 },
 "nbformat": 4,
 "nbformat_minor": 2
}