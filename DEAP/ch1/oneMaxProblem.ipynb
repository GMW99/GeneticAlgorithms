{
 "cells": [
  {
   "cell_type": "markdown",
   "metadata": {
    "colab_type": "text",
    "id": "t3u2WJ0IbkD5"
   },
   "source": [
    "# The OneMax problem\n",
    "\n",
    "This is a very simple problem, it is simply to create and sovle for a human. The problem is to create an array of all 1's for a randomly instilaised list. i.e. 0101010 would become 111111. The fitness function is also simple as you simply assign a value of 1 to each one so the array with the highest number of ones is the fittest."
   ]
  },
  {
   "cell_type": "markdown",
   "metadata": {
    "colab_type": "text",
    "id": "movSdx8Ajodi"
   },
   "source": [
    "## Setting up\n",
    "\n"
   ]
  },
  {
   "cell_type": "code",
   "execution_count": 0,
   "metadata": {
    "colab": {},
    "colab_type": "code",
    "id": "3vgoAvpxgH_y"
   },
   "outputs": [],
   "source": [
    "from deap import base\n",
    "from deap import creator \n",
    "from deap import tools\n",
    "\n",
    "import random\n",
    "import matplotlib.pyplot as plt"
   ]
  },
  {
   "cell_type": "markdown",
   "metadata": {
    "colab_type": "text",
    "id": "xfdzAMAnnLAS"
   },
   "source": [
    "This part just defines all of the constants and parameters that are going to used to control the behavior of the algorithm."
   ]
  },
  {
   "cell_type": "code",
   "execution_count": 0,
   "metadata": {
    "colab": {},
    "colab_type": "code",
    "id": "AZxpuHQynNGi"
   },
   "outputs": [],
   "source": [
    "# Problem constants\n",
    "ONE_MAX_LENGTH = 100\n",
    "\n",
    "# Genetic Algorithm constants\n",
    "POPULATION_SIZE = 200 # number of individuals in population\n",
    "P_CROSSOVER = 0.9 # probability for crossover\n",
    "P_MUTATION = 0.1 # probability for mutating an individual\n",
    "MAX_GENERATIONS = 50 # max  number of generations for stopping condition"
   ]
  },
  {
   "cell_type": "markdown",
   "metadata": {
    "colab_type": "text",
    "id": "Stih2Ky5njvD"
   },
   "source": [
    "As we are experminting with this code we would like the same experiment several times and get repeatable result, to do this we add a set seed value. Please not you would not normally do this in a normal run."
   ]
  },
  {
   "cell_type": "code",
   "execution_count": 0,
   "metadata": {
    "colab": {},
    "colab_type": "code",
    "id": "MwjLCfkdnk9C"
   },
   "outputs": [],
   "source": [
    "RANDOM_SEED = 42 \n",
    "random.seed(RANDOM_SEED)"
   ]
  },
  {
   "cell_type": "markdown",
   "metadata": {
    "colab_type": "text",
    "id": "QcgeOI7ZoEYV"
   },
   "source": [
    "Here we create the zeroOrOne function which returns a value of either zero or one as that is what our population will consit of."
   ]
  },
  {
   "cell_type": "code",
   "execution_count": 0,
   "metadata": {
    "colab": {},
    "colab_type": "code",
    "id": "vvo--P29pxB5"
   },
   "outputs": [],
   "source": [
    "toolbox = base.Toolbox()\n",
    "toolbox.register(\"zeroOrOne\", random.randint,0 ,1)"
   ]
  },
  {
   "cell_type": "markdown",
   "metadata": {
    "colab_type": "text",
    "id": "-6ZFr19mqVya"
   },
   "source": [
    "Now we define the Fitness class, as we only have on objective function here the sum of the digits and our goal is to maximize it, we can call the class FitnessMax with a positive weight of 1.0,"
   ]
  },
  {
   "cell_type": "code",
   "execution_count": 0,
   "metadata": {
    "colab": {},
    "colab_type": "code",
    "id": "qJQGTtrHr5GX"
   },
   "outputs": [],
   "source": [
    "creator.create(\"FitnessMax\", base.Fitness, weights=(1.0,))"
   ]
  },
  {
   "cell_type": "markdown",
   "metadata": {
    "colab_type": "text",
    "id": "NDMR080fsF35"
   },
   "source": [
    "There are conventions in DEAP that are recommend that we stick to, this is to create a class called Individual to represent each of the populations individuals. This is created using the creator tool, in this case a list servers as the best classm with the fitness atribute being the fitness class we defined earlier, FitnessMax:"
   ]
  },
  {
   "cell_type": "code",
   "execution_count": 0,
   "metadata": {
    "colab": {},
    "colab_type": "code",
    "id": "HDAFTo2Qs--F"
   },
   "outputs": [],
   "source": [
    "creator.create(\"Individual\", list, fitness=creator.FitnessMax)"
   ]
  },
  {
   "cell_type": "markdown",
   "metadata": {
    "colab_type": "text",
    "id": "WC8yerlwtQSm"
   },
   "source": [
    "Next we create the individualCreator function, which creates an instance of the Individual class filled up with either zeros or ones randomly. We can do this by modifing the zeroOrOne function we made earlier. This is done by using the initRepeat function which was explained earlier. \n"
   ]
  },
  {
   "cell_type": "code",
   "execution_count": 0,
   "metadata": {
    "colab": {},
    "colab_type": "code",
    "id": "HOTEWw9Ruk74"
   },
   "outputs": [],
   "source": [
    "toolbox.register(\"individualCreator\",tools.initRepeat,creator.Individual,toolbox.zeroOrOne,ONE_MAX_LENGTH)"
   ]
  },
  {
   "cell_type": "markdown",
   "metadata": {
    "colab_type": "text",
    "id": "k4MIfZUou4EH"
   },
   "source": [
    "The next step is to define the function that creates the population of the list of individuals that we are going to use."
   ]
  },
  {
   "cell_type": "code",
   "execution_count": 0,
   "metadata": {
    "colab": {},
    "colab_type": "code",
    "id": "fcr5FZA41JhA"
   },
   "outputs": [],
   "source": [
    "toolbox.register(\"populationCreator\",tools.initRepeat,list,toolbox.individualCreator)"
   ]
  },
  {
   "cell_type": "markdown",
   "metadata": {
    "colab_type": "text",
    "id": "B_lUg1e4102R"
   },
   "source": [
    "Now to do the fitness calculation or evaluation using DEAP conventions, we start by defining a function that takes an instance of the Individual class as the parameter and return the fitness for it."
   ]
  },
  {
   "cell_type": "code",
   "execution_count": 0,
   "metadata": {
    "colab": {},
    "colab_type": "code",
    "id": "U-F8JWFE-5Ab"
   },
   "outputs": [],
   "source": [
    "def oneMaxFitness(individual):\n",
    "  return sum(individual), #return a tuple"
   ]
  },
  {
   "cell_type": "markdown",
   "metadata": {
    "colab_type": "text",
    "id": "pEC_coFu_Gp9"
   },
   "source": [
    "Now we need to define the evaluate function as a alias of the oneMaxFitness function to keep with DEAP conventions set."
   ]
  },
  {
   "cell_type": "code",
   "execution_count": 0,
   "metadata": {
    "colab": {},
    "colab_type": "code",
    "id": "3i3JbsUZ_gZa"
   },
   "outputs": [],
   "source": [
    "toolbox.register(\"evaluate\", oneMaxFitness)"
   ]
  },
  {
   "cell_type": "markdown",
   "metadata": {
    "colab_type": "text",
    "id": "5jl5gGFi_k68"
   },
   "source": [
    "Now we need to define the selection, mate, and mutate functions . "
   ]
  },
  {
   "cell_type": "code",
   "execution_count": 0,
   "metadata": {
    "colab": {},
    "colab_type": "code",
    "id": "u8j4yXBU_0ND"
   },
   "outputs": [],
   "source": [
    "toolbox.register(\"select\", tools.selTournament, tournsize=3)\n",
    "toolbox.register(\"mate\", tools.cxOnePoint)\n",
    "toolbox.register(\"mutate\",tools.mutFlipBit,indpb=1.0/ONE_MAX_LENGTH)"
   ]
  },
  {
   "cell_type": "markdown",
   "metadata": {
    "colab_type": "text",
    "id": "kJDaRtqKAYir"
   },
   "source": [
    "## Evolving Solution\n",
    "\n",
    "The algorithm would then be implemented in a main() function that would contain the following code"
   ]
  },
  {
   "cell_type": "markdown",
   "metadata": {
    "colab_type": "text",
    "id": "TPzzgNXoBfzM"
   },
   "source": [
    "The first step is to create the initial population that will be used, as well as creating the generationCounter variable that we will use to count the amount of generations created."
   ]
  },
  {
   "cell_type": "code",
   "execution_count": 0,
   "metadata": {
    "colab": {},
    "colab_type": "code",
    "id": "vtQvrN7ACZ7S"
   },
   "outputs": [],
   "source": [
    "population = toolbox.populationCreator(n=POPULATION_SIZE)\n",
    "generationCounter = 0"
   ]
  },
  {
   "cell_type": "markdown",
   "metadata": {
    "colab_type": "text",
    "id": "5V8nhYgLCkDA"
   },
   "source": [
    "We then map the evalutate function to the memebers of population and wrap it around a list so it returns a list of tuples.  "
   ]
  },
  {
   "cell_type": "code",
   "execution_count": 0,
   "metadata": {
    "colab": {},
    "colab_type": "code",
    "id": "dIJFrP_JDaus"
   },
   "outputs": [],
   "source": [
    "fitnessValue = list(map(toolbox.evaluate,population))\n",
    "print(fitnessValue)"
   ]
  },
  {
   "cell_type": "markdown",
   "metadata": {
    "colab_type": "text",
    "id": "NB3T_lPfECEr"
   },
   "source": [
    "As the fitnessValue matches the inviduals in the population as one to one due to the mapping, we are able to use the zip() function to combine them and assign the matching fitness tuple to the resepective individual."
   ]
  },
  {
   "cell_type": "code",
   "execution_count": 0,
   "metadata": {
    "colab": {},
    "colab_type": "code",
    "id": "Hr1gYWNtEX2x"
   },
   "outputs": [],
   "source": [
    "for individual, fitnessValue in zip(population,fitnessValue):\n",
    "  individual.fitness.values = fitnessValue"
   ]
  },
  {
   "cell_type": "markdown",
   "metadata": {
    "colab_type": "text",
    "id": "qhIilyyJEpQe"
   },
   "source": [
    "Now we need to extract the fitness values of the individuals as we only have one single objective this is fairly trivail."
   ]
  },
  {
   "cell_type": "code",
   "execution_count": 0,
   "metadata": {
    "colab": {},
    "colab_type": "code",
    "id": "lCuaD9YcE8J-"
   },
   "outputs": [],
   "source": [
    "fitnessValues = [individual.fitness.values[0] for individual in population]"
   ]
  },
  {
   "cell_type": "markdown",
   "metadata": {
    "colab_type": "text",
    "id": "3xLFVK4HGEUF"
   },
   "source": [
    "We should collect statistics on each generation, these can be whatever you want for this demostation we will recored the max and average"
   ]
  },
  {
   "cell_type": "code",
   "execution_count": 0,
   "metadata": {
    "colab": {},
    "colab_type": "code",
    "id": "WLVY2HyAGc69"
   },
   "outputs": [],
   "source": [
    "maxFitnessValue = []\n",
    "meanFitnessValue = []"
   ]
  },
  {
   "cell_type": "markdown",
   "metadata": {},
   "source": [
    "With all of the above setup we are now able to create the mainloop, so we will start by defining the stopping conditions of the loop, this will be the number of generation and if the best solution has been reached."
   ]
  },
  {
   "cell_type": "code",
   "execution_count": 1,
   "metadata": {},
   "outputs": [
    {
     "ename": "NameError",
     "evalue": "name 'fitnessValue' is not defined",
     "output_type": "error",
     "traceback": [
      "\u001b[0;31m---------------------------------------------------------------------------\u001b[0m",
      "\u001b[0;31mNameError\u001b[0m                                 Traceback (most recent call last)",
      "\u001b[0;32m<ipython-input-1-2f45a39d8e77>\u001b[0m in \u001b[0;36m<module>\u001b[0;34m\u001b[0m\n\u001b[0;32m----> 1\u001b[0;31m \u001b[0;32mwhile\u001b[0m \u001b[0mmax\u001b[0m\u001b[0;34m(\u001b[0m\u001b[0mfitnessValue\u001b[0m\u001b[0;34m)\u001b[0m \u001b[0;34m<\u001b[0m \u001b[0mONE_MAX_LENGTH\u001b[0m \u001b[0;32mand\u001b[0m \u001b[0mgenerationCounter\u001b[0m \u001b[0;34m<\u001b[0m \u001b[0mMAX_GENERATIONS\u001b[0m\u001b[0;34m:\u001b[0m\u001b[0;34m\u001b[0m\u001b[0;34m\u001b[0m\u001b[0m\n\u001b[0m\u001b[1;32m      2\u001b[0m     \u001b[0mgenerationCounter\u001b[0m\u001b[0;34m+=\u001b[0m\u001b[0;36m1\u001b[0m\u001b[0;34m\u001b[0m\u001b[0;34m\u001b[0m\u001b[0m\n",
      "\u001b[0;31mNameError\u001b[0m: name 'fitnessValue' is not defined"
     ]
    }
   ],
   "source": [
    "while max(fitnessValue) < ONE_MAX_LENGTH and generationCounter < MAX_GENERATIONS:\n",
    "    generationCounter+=1"
   ]
  },
  {
   "cell_type": "markdown",
   "metadata": {},
   "source": [
    "Now we need to apply the selection function, as we already defined the tournament size we only need to send the population and size"
   ]
  },
  {
   "cell_type": "code",
   "execution_count": null,
   "metadata": {},
   "outputs": [],
   "source": [
    "offspring = toolbox.select(population, len(population))"
   ]
  },
  {
   "cell_type": "markdown",
   "metadata": {},
   "source": [
    "We will now clone the offsping so we can apply the next genetic operations to them instead of the original set"
   ]
  },
  {
   "cell_type": "code",
   "execution_count": null,
   "metadata": {},
   "outputs": [],
   "source": [
    "offspring = list(map(toolbox.clone, offspring))"
   ]
  },
  {
   "cell_type": "markdown",
   "metadata": {},
   "source": [
    "Crossing over of the offspring is the next step, we will use python slicing to pair every even-indexed item of the offspring list with the one following it. We will then use the random function to test if the probablity of them crossing over surpasses P_CROSSOVER constant set earlier. We will then delete the fitness values of the children as they will potentially ended up having different values."
   ]
  },
  {
   "cell_type": "code",
   "execution_count": null,
   "metadata": {},
   "outputs": [],
   "source": [
    "for child1, child2 in zip(offspring[::2], offspring[1::2]):\n",
    "    if random.random() < P_CROSSOVER:\n",
    "        toolbox.mate(child1,child2)\n",
    "        del child1.fitness.value\n",
    "        del child2.fitness.value"
   ]
  },
  {
   "cell_type": "markdown",
   "metadata": {},
   "source": [
    "Then we need to apply the mutation operator, whilst removing the fitness value of the new offspring"
   ]
  },
  {
   "cell_type": "code",
   "execution_count": null,
   "metadata": {},
   "outputs": [],
   "source": [
    "for mutant in offspring:\n",
    "    if random.random() < P_MUTATION:\n",
    "        toolbox.mate(mutant)\n",
    "        del mutate.fitness.values"
   ]
  },
  {
   "cell_type": "markdown",
   "metadata": {},
   "source": [
    "For individuals that were not crossed over or mutated remained intact the fitness values will not change, so we do not need to calcualte the fitness values again. For the ones that did we need to calculate the new values, we do this checking if the individual has a valid fitness and then doing as we did before."
   ]
  },
  {
   "cell_type": "code",
   "execution_count": null,
   "metadata": {},
   "outputs": [],
   "source": [
    "newIndividuals = [ind for ind in offspring if not ind.fitness.valid]\n",
    "newFitnessValues = list(map(toolbox.evaluate,newIndividuals))\n",
    "for individual,fitnessValue in zip(newIndividuals,newFitnessValues):\n",
    "    individual.fitness.value = fitnessValue"
   ]
  },
  {
   "cell_type": "markdown",
   "metadata": {},
   "source": [
    "Replace the old population with the old one "
   ]
  },
  {
   "cell_type": "code",
   "execution_count": null,
   "metadata": {},
   "outputs": [],
   "source": [
    "population[:] = offspring"
   ]
  },
  {
   "cell_type": "markdown",
   "metadata": {},
   "source": [
    "Now we can collect the statistis of this population, and print out the results of that population"
   ]
  },
  {
   "cell_type": "code",
   "execution_count": null,
   "metadata": {},
   "outputs": [],
   "source": [
    "fitnessValues = [ind.fitness.values[0] for ind in population]\n",
    "maxFitness = max(fitnessValues)\n",
    "meanFitness = sum(fitnessValues)/ len(population)\n",
    "maxFitnessValues.append(maxFitness)\n",
    "meanFitnessValues.append(meanFitness)\n",
    "print(\"- Generation {}: Max Fitness = {}, Avg Fitness = {}\"\n",
    "      .format(generationCounter, maxFitness, meanFitness))\n",
    "best_index = fitnessValues.index(max(fitnessValues))\n",
    "print(\"Best Individual = \", *population[best_index], \"\\n\")"
   ]
  },
  {
   "cell_type": "markdown",
   "metadata": {},
   "source": [
    "Once the stopping conditions are met we can  plot the statistics gathered through matplotlib."
   ]
  },
  {
   "cell_type": "code",
   "execution_count": null,
   "metadata": {},
   "outputs": [],
   "source": [
    "plt.plot(maxFitnessValues, color='red')\n",
    "plt.plot(meanFitnessValues, color='green')\n",
    "plt.xlabel('Generation')\n",
    "plt.ylabel('Max / Average Fitness')\n",
    "plt.title('Max and Average fitness over Generations')\n",
    "plt.show()"
   ]
  }
 ],
 "metadata": {
  "colab": {
   "collapsed_sections": [],
   "name": "DEAP.ipynb",
   "provenance": [],
   "toc_visible": true
  },
  "kernelspec": {
   "display_name": "ga",
   "language": "python",
   "name": "ga"
  },
  "language_info": {
   "codemirror_mode": {
    "name": "ipython",
    "version": 3
   },
   "file_extension": ".py",
   "mimetype": "text/x-python",
   "name": "python",
   "nbconvert_exporter": "python",
   "pygments_lexer": "ipython3",
   "version": "3.7.3"
  }
 },
 "nbformat": 4,
 "nbformat_minor": 1
}
