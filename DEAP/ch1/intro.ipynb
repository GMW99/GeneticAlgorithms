{
 "cells": [
  {
   "cell_type": "markdown",
   "metadata": {
    "colab_type": "text",
    "id": "ByFBOoP5iH7s"
   },
   "source": [
    "# What is DEAP\n",
    "\n",
    "DEAP is short for Distributed Evolutionary Algorithms in Python and is a framework developed in python that supports developement of genetic and evolutionary computation algorithms. It can be installed using pip install deap\n"
   ]
  },
  {
   "cell_type": "markdown",
   "metadata": {
    "colab_type": "text",
    "id": "JgWcBUhiQCbo"
   },
   "source": [
    "## Prerequisite Knowledge \n",
    "\n",
    "1.   Python\n",
    "2.   Understanding of how genetic algorithms work\n",
    "\n",
    "\n",
    "\n"
   ]
  },
  {
   "cell_type": "code",
   "execution_count": 0,
   "metadata": {
    "colab": {},
    "colab_type": "code",
    "id": "3hln6Ou8iGw4"
   },
   "outputs": [],
   "source": [
    "!pip install deap"
   ]
  },
  {
   "cell_type": "markdown",
   "metadata": {
    "colab_type": "text",
    "id": "ARLL82X_jDDn"
   },
   "source": [
    "# Creator class\n",
    "\n",
    "The creator class is used a meta-factory and it enables exisiting classes to be extened by adding new attributes. The creator class usually serves to create the Fitness class as well as the Individual class to be used by a genetic algorithm."
   ]
  },
  {
   "cell_type": "markdown",
   "metadata": {
    "colab_type": "text",
    "id": "5EJSgsRajzQ1"
   },
   "source": [
    "## Creating the Fitness class\n",
    "\n",
    "Fitness values are expressed within the Fitness class. DEAP allows for the fitness to be combinded into many components, objectives, each having there own weight. The way these weights are combined together will define the strategy of the fitness."
   ]
  },
  {
   "cell_type": "markdown",
   "metadata": {
    "colab_type": "text",
    "id": "kuSXwnAbG7gx"
   },
   "source": [
    "## Defining a fitness strategy \n",
    "\n",
    "There is a class base template class called  base.Fitness, this class contains the weights tuple. The weights tuple will need to be assinged with values in the order of importance. "
   ]
  },
  {
   "cell_type": "code",
   "execution_count": 0,
   "metadata": {
    "colab": {},
    "colab_type": "code",
    "id": "t3s5aFsNnIdY"
   },
   "outputs": [],
   "source": [
    "from deap import creator\n",
    "from deap import base\n",
    "\n",
    "creator.create(\"FitnessMax\", base.Fitness, weights=(1.0,))"
   ]
  },
  {
   "cell_type": "markdown",
   "metadata": {
    "colab_type": "text",
    "id": "xEDNl4XWntxn"
   },
   "source": [
    "This will create a creator.FitnessMax class that extends base.Fitness with the weights initially instantiated with the value of (1.0,) the trailing comma is because weights as required as a tuple data structure. The FitnessMax class is used to maximize the fitness values of the single-objective solutions during the running of the algorithm. If needing to minimize, then you change the weight to negative and change the class name appropriately. \n"
   ]
  },
  {
   "cell_type": "markdown",
   "metadata": {
    "colab_type": "text",
    "id": "NLx7vAR4GpY7"
   },
   "source": [
    "## Creating an Individual class \n",
    "\n",
    "In DEAP you can  define the individuals that form the population that will be used in the genetitc algorithm. This is done by extending a base class that will represent the it such as a list, as well an individual instance needs to contain the fitness function attribute. "
   ]
  },
  {
   "cell_type": "code",
   "execution_count": 0,
   "metadata": {
    "colab": {},
    "colab_type": "code",
    "id": "zy6X6ZpXPaRS"
   },
   "outputs": [],
   "source": [
    "from deap import creator\n",
    "\n",
    "creator.create(\"Individual\", list, fitness=creator.FitnessMax)"
   ]
  },
  {
   "cell_type": "markdown",
   "metadata": {
    "colab_type": "text",
    "id": "PfW3tr3QQenn"
   },
   "source": [
    "# Toolbox class\n",
    "\n",
    "This class is used to host functions and allows for the creation of new functions by customizing exisitng functions. The documentation can be found https://deap.readthedocs.io/en/1.0.x/api/tools.html#operators"
   ]
  },
  {
   "cell_type": "markdown",
   "metadata": {
    "colab_type": "text",
    "id": "TM1ueYqURRs0"
   },
   "source": [
    "## An example of its use\n",
    "\n",
    "If you have a function that is the product of two digits as below"
   ]
  },
  {
   "cell_type": "code",
   "execution_count": 0,
   "metadata": {
    "colab": {},
    "colab_type": "code",
    "id": "WFW_JQ6gReho"
   },
   "outputs": [],
   "source": [
    "def productOfTwo(a,b):\n",
    "  return a*b"
   ]
  },
  {
   "cell_type": "markdown",
   "metadata": {
    "colab_type": "text",
    "id": "T1InP_NgRkpw"
   },
   "source": [
    "If we use the toolbox we now and add a new function, multiplyByTwo(), which customizes the productOfTwo() function."
   ]
  },
  {
   "cell_type": "code",
   "execution_count": 0,
   "metadata": {
    "colab": {},
    "colab_type": "code",
    "id": "u-HkF_mfR-mj"
   },
   "outputs": [],
   "source": [
    "from deap import base\n",
    "\n",
    "toolbox = base.Toolbox()\n",
    "toolbox.register(\"multiplyByTwo\",productOfTwo, b=2)"
   ]
  },
  {
   "cell_type": "markdown",
   "metadata": {
    "colab_type": "text",
    "id": "5DGDIGCDSUoQ"
   },
   "source": [
    "The first argument passed to the register is the new name of the function, the second being the function we are customizing with the 3rd being the parametes we are passing so running"
   ]
  },
  {
   "cell_type": "code",
   "execution_count": 0,
   "metadata": {
    "colab": {},
    "colab_type": "code",
    "id": "pTUPPDReStiJ"
   },
   "outputs": [],
   "source": [
    "toolbox.multiplyByTwo(4)"
   ]
  },
  {
   "cell_type": "markdown",
   "metadata": {
    "colab_type": "text",
    "id": "shHQiiiYa-4i"
   },
   "source": [
    "This is the equivalent to:"
   ]
  },
  {
   "cell_type": "code",
   "execution_count": 0,
   "metadata": {
    "colab": {},
    "colab_type": "code",
    "id": "9MA-J0NgbHP_"
   },
   "outputs": [],
   "source": [
    "productOfTwo(4,2)"
   ]
  },
  {
   "cell_type": "markdown",
   "metadata": {
    "colab_type": "text",
    "id": "jXcszZo_dVIu"
   },
   "source": [
    "## Creating genetic operators\n",
    "\n",
    "The main use of the toolbox is to customize the exisitng functions in tools class. This class contains many useful functions related to genetic operations such as mutation, selection, crossover and initialization utilities.\n",
    "\n",
    "This is an example of three aliases that can later be used as the genetic operators for a GA later."
   ]
  },
  {
   "cell_type": "code",
   "execution_count": 0,
   "metadata": {
    "colab": {},
    "colab_type": "code",
    "id": "pEU-1NRjefmb"
   },
   "outputs": [],
   "source": [
    "from deap import tools\n",
    "\n",
    "toolbox.register(\"select\", tools.selTournament, tournsize=3)\n",
    "toolbox.register(\"mate\", tools.cxTwoPoint)\n",
    "toolbox.register(\"mutate\", tools.mutFlipBit, indpb=0.02)"
   ]
  },
  {
   "cell_type": "markdown",
   "metadata": {
    "colab_type": "text",
    "id": "acdmJNQnetL2"
   },
   "source": [
    "The aliases used here are defined below\n",
    "\n",
    "\n",
    "*   select, is an alias to the tools function selTournament with the parameter of 3. This performans tournament selection with a tournament size of 3\n",
    "*   mate, is an alias of the cxTwoPoint function. This performs a two-point crossover\n",
    "*   mutate, is an alias of the mutFlipBit function with indpb parameter set to 0.02, indpb meaning inderpendent probablity. This function performs a flib bit mutation with a 0.02 probability of each attribute being flipped.\n",
    "\n",
    "\n"
   ]
  },
  {
   "cell_type": "markdown",
   "metadata": {
    "colab_type": "text",
    "id": "lqmufkAyjDml"
   },
   "source": [
    "## Creating the population\n",
    "\n",
    "The tools module has functions that are very useful creating a population, they all start with init, 'initRepeat', 'initIterate', 'initCycle'. They all have diferent usecases but in this section we are looking at initRepeat which takes 3 parameters:\n",
    "\n",
    "\n",
    "*   container, is the type to put in the data from function\n",
    "*   function, the function used to generate the objects stored in the container\n",
    "*   n, the number of times we want to create a container\n",
    "\n",
    "An example of a list of 30 filled with random values from 0.0-1.0:\n",
    "\n"
   ]
  },
  {
   "cell_type": "code",
   "execution_count": 0,
   "metadata": {
    "colab": {},
    "colab_type": "code",
    "id": "RgUnUH7jQKb-"
   },
   "outputs": [],
   "source": [
    "import random \n",
    "from deap import tools\n",
    "\n",
    "randomList = tools.initRepeat(list,random.random,30)\n",
    "print(randomList)"
   ]
  },
  {
   "cell_type": "markdown",
   "metadata": {
    "colab_type": "text",
    "id": "5s5hnEsVRQyU"
   },
   "source": [
    "We can also use our own functions to create a population. For example if we wanted random numbers of only 0 and 1 we would do something like so as initRepeat needs to take an unparametized function:"
   ]
  },
  {
   "cell_type": "code",
   "execution_count": 0,
   "metadata": {
    "colab": {},
    "colab_type": "code",
    "id": "bhPG1rzMSSwy"
   },
   "outputs": [],
   "source": [
    "import random \n",
    "from deap import tools\n",
    "\n",
    "def zeroOrOne():\n",
    "  return random.randint(0,1)\n",
    "\n",
    "zeroOrOneList = tools.initRepeat(list, zeroOrOne, 30)\n",
    "print(zeroOrOneList)"
   ]
  },
  {
   "cell_type": "markdown",
   "metadata": {
    "colab_type": "text",
    "id": "hsd7j82ETGCK"
   },
   "source": [
    "Or, we can use the toolbox as shown in previous examples:"
   ]
  },
  {
   "cell_type": "code",
   "execution_count": 0,
   "metadata": {
    "colab": {},
    "colab_type": "code",
    "id": "bI6cOAWhTL3d"
   },
   "outputs": [],
   "source": [
    "import random \n",
    "from deap import base\n",
    "from deap import tools\n",
    "\n",
    "toolbox = base.Toolbox()\n",
    "toolbox.register(\"zeroOrOne\", random.randint, 0, 1)\n",
    "zeroOrOneList = tools.initRepeat(list, zeroOrOne, 30)\n",
    "print(zeroOrOneList)"
   ]
  }
 ],
 "metadata": {
  "colab": {
   "collapsed_sections": [],
   "name": "DEAP.ipynb",
   "provenance": [],
   "toc_visible": true
  },
  "kernelspec": {
   "display_name": "ga",
   "language": "python",
   "name": "ga"
  },
  "language_info": {
   "codemirror_mode": {
    "name": "ipython",
    "version": 3
   },
   "file_extension": ".py",
   "mimetype": "text/x-python",
   "name": "python",
   "nbconvert_exporter": "python",
   "pygments_lexer": "ipython3",
   "version": "3.7.3"
  }
 },
 "nbformat": 4,
 "nbformat_minor": 1
}
