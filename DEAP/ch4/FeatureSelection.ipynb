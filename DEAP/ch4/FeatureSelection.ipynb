{
 "nbformat": 4,
 "nbformat_minor": 2,
 "metadata": {
  "language_info": {
   "name": "python",
   "codemirror_mode": {
    "name": "ipython",
    "version": 3
   }
  },
  "orig_nbformat": 2,
  "file_extension": ".py",
  "mimetype": "text/x-python",
  "name": "python",
  "npconvert_exporter": "python",
  "pygments_lexer": "ipython3",
  "version": 3
 },
 "cells": [
  {
   "cell_type": "code",
   "execution_count": null,
   "metadata": {},
   "outputs": [],
   "source": []
  },
  {
   "cell_type": "markdown",
   "metadata": {},
   "source": [
    "# Feature Selection in Machine Learning\n",
    "\n",
    "Feature Selection is the art of selecting the relevant set of features from a data set that have a beneficial impact on the performance of the model. This is done as counter to intuation adding more features does not always improve the performance of a model, as they can hold superflouos and superficial information. \n",
    "\n",
    "Some benefits of good features selection include:\n",
    "* Training times are shorter\n",
    "* The trained models can be easier to understand\n",
    "* Models can be more generalised as they work well with less information.\n",
    "\n",
    "\n"
   ]
  },
  {
   "cell_type": "markdown",
   "metadata": {},
   "source": [
    "## Selecting features for the Friedman-1 regression problem\n",
    "\n",
    "This is a problem that was created by Friedman and Breiman, it has a single output $y$ which takes five inputs $x_0..x_4$, and randomly generats noise. It it is expressed in the following way:\n",
    "$$\n",
    "y(x_0, \\,x_1, \\,x_2, \\,x_3, \\,x_4)= 10 \\cdot \\sin(\\pi\\cdot x_0 \\cdot x_1) + 20(x_2-0.5)^2 + 10x_3 + 5x_4 + noise \\cdot N(0,1)\n",
    "$$\n",
    "$$where$$\n",
    "$$ \n",
    "x_0, \\,x_1, \\,x_2, \\,x_3, \\,x_4 \\sim U(0,1)\n",
    "$$\n",
    "$$\n",
    "\\text{and a random value for noise that is} \\sim N(0,1)\n",
    "$$"
   ]
  },
  {
   "cell_type": "markdown",
   "metadata": {},
   "source": [
    "### Python representation\n",
    "\n",
    "The python library scikit-learn(sklearn) provides a make_friedman1() function, this can be used to create a dataset with the needed amount of objects. With each ovject consisting of the randomly generatored parameters $(x_0..x_4)$ and the corresponding y values. What is good about this function is that we can add an "
   ]
  }
 ]
}