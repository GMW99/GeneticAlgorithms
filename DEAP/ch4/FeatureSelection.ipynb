{
 "nbformat": 4,
 "nbformat_minor": 2,
 "metadata": {
  "language_info": {
   "name": "python",
   "codemirror_mode": {
    "name": "ipython",
    "version": 3
   }
  },
  "orig_nbformat": 2,
  "file_extension": ".py",
  "mimetype": "text/x-python",
  "name": "python",
  "npconvert_exporter": "python",
  "pygments_lexer": "ipython3",
  "version": 3
 },
 "cells": [
  {
   "cell_type": "code",
   "execution_count": null,
   "metadata": {},
   "outputs": [],
   "source": []
  },
  {
   "cell_type": "markdown",
   "metadata": {},
   "source": [
    "# Feature Selection in Machine Learning\n",
    "\n",
    "Feature Selection is the art of selecting the relevant set of features from a data set that have a beneficial impact on the performance of the model. This is done as counter to intuation adding more features does not always improve the performance of a model, as they can hold superflouos and superficial information. \n",
    "\n",
    "Some benefits of good features selection include:\n",
    "* Training times are shorter\n",
    "* The trained models can be easier to understand\n",
    "* Models can be more generalised as they work well with less information.\n",
    "\n",
    "\n"
   ]
  },
  {
   "cell_type": "markdown",
   "metadata": {},
   "source": [
    "## Selecting features for the Friedman-1 regression problem\n",
    "\n",
    "This is a problem that was created by Friedman and Breiman, it has a single output $y$ which takes five inputs (features) $x_0..x_4$, and randomly generats noise. It it is expressed in the following way:\n",
    "$$\n",
    "y(x_0, \\,x_1, \\,x_2, \\,x_3, \\,x_4)= 10 \\cdot \\sin(\\pi\\cdot x_0 \\cdot x_1) + 20(x_2-0.5)^2 + 10x_3 + 5x_4 + noise \\cdot N(0,1)\n",
    "$$\n",
    "$$where$$\n",
    "$$ \n",
    "x_0, \\,x_1, \\,x_2, \\,x_3, \\,x_4 \\sim U(0,1)\n",
    "$$\n",
    "$$\n",
    "\\text{and a random value for noise that is} \\sim N(0,1)\n",
    "$$"
   ]
  },
  {
   "cell_type": "markdown",
   "metadata": {},
   "source": [
    "### Python representation\n",
    "\n",
    "The python library scikit-learn(sklearn) provides a make_friedman1() function, this can be used to create a dataset with the needed amount of objects. With each ovject consisting of the randomly generatored parameters $(x_0..x_4)$ and the corresponding y values. What is good about this function is that we can add an random number of adational inputs (features) to the original 5. This is done by by chaning the parameter n_features in make_friedman1() to a value larger than 5. If we enetered a value of 8 this would create the $y$ value based of the forumla above and 3 addtiional features that are completely uncesaceaty to the output. \n",
    "\n",
    "The objective function will be to find the subset of features that yeild the best performance. This means we need a way to indiacate which feature we are going to use, this can be eaisly reperented as boolean, true or false. So we are going to use a binary list that corresponds to one of the features in the dataset. With 1 meaning it is selected and vise versa for 0. "
   ]
  },
  {
   "cell_type": "markdown",
   "metadata": {},
   "source": [
    "## Selecting the features for the classification Zoo dataset\n",
    "\n",
    "There is a UCI Machine Learning Repo (https://archive.ics.uci.edu/ml/index.php, this repo maintains datasets. A dataset will typically included a number of features and desired output in columns with a description of their meaning. \n",
    "\n",
    "The problem we are tring to solve is the Zoo dataset (https://archive.ics.uci.edu/ml/datasets/zoo), this has 18 features  with 101 instances. \n",
    "\n",
    "-------------------------------------------------------------------\n",
    "| Number | Feature name | Type                                    |\n",
    "|:------:|:------------:|:---------------------------------------:|\n",
    "| 1      | animal name  | Unique for each instance                |\n",
    "| 2      | hair         | Boolean                                 |\n",
    "| 3      | feathers     | Boolean                                 |\n",
    "| 4      | eggs         | Boolean                                 |\n",
    "| 5      | milk         | Boolean                                 |\n",
    "| 6      | airborne     | Boolean                                 |\n",
    "| 7      | aquatic      | Boolean                                 |\n",
    "| 8      | predator     | Boolean                                 |\n",
    "| 9      | toothed      | Boolean                                 |\n",
    "| 10     | backbone     | Boolean                                 |\n",
    "| 11     | breathes     | Boolean                                 |\n",
    "| 12     | venomous     | Boolean                                 |\n",
    "| 13     | fins         | Boolean                                 |\n",
    "| 14     | legs         | Numeric (set of values {0,2,4,5,6,8})   |\n",
    "| 15     | tail         | Boolean                                 |\n",
    "| 16     | domestic     | Boolean                                 |\n",
    "| 17     | catsize      | Boolean                                 |\n",
    "| 18     | type         | Numeric (integer values in range [1,7]) |\n",
    "-------------------------------------------------------------------\n",
    "\n",
    "As animal name is unique for every isntance we will remove it from the feature list so will be only dealing with 17 features."
   ]
  }
 ]
}