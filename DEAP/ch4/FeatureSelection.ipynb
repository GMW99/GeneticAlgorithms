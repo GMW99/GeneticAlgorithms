{
 "nbformat": 4,
 "nbformat_minor": 2,
 "metadata": {
  "language_info": {
   "name": "python",
   "codemirror_mode": {
    "name": "ipython",
    "version": 3
   }
  },
  "orig_nbformat": 2,
  "file_extension": ".py",
  "mimetype": "text/x-python",
  "name": "python",
  "npconvert_exporter": "python",
  "pygments_lexer": "ipython3",
  "version": 3
 },
 "cells": [
  {
   "cell_type": "markdown",
   "metadata": {},
   "source": [
    "# Feature Selection in Machine Learning\n",
    "\n",
    "Feature Selection is the art of selecting the relevant set of features from a data set that have a beneficial impact on the performance of the model. This is done as counter to intuation adding more features does not always improve the performance of a model, as they can hold superflouos and superficial information. \n",
    "\n",
    "Some benefits of good features selection include:\n",
    "* Training times are shorter\n",
    "* The trained models can be easier to understand\n",
    "* Models can be more generalised as they work well with less information.\n"
   ]
  },
  {
   "cell_type": "markdown",
   "metadata": {},
   "source": []
  }
 ]
}